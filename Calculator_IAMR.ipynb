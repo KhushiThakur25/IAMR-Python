{
 "cells": [
  {
   "cell_type": "code",
   "execution_count": 1,
   "id": "565a082c-fc8e-4c9c-954b-3692badb751e",
   "metadata": {
    "tags": []
   },
   "outputs": [],
   "source": [
    "#calculator"
   ]
  },
  {
   "cell_type": "code",
   "execution_count": 3,
   "id": "81eedd70-2ea8-4470-94d2-5585fc3d6431",
   "metadata": {
    "tags": []
   },
   "outputs": [
    {
     "name": "stdout",
     "output_type": "stream",
     "text": [
      "1.Add\n",
      "2.Subtract\n",
      "3.Multiplication\n",
      "4.Division..\n"
     ]
    },
    {
     "name": "stdin",
     "output_type": "stream",
     "text": [
      "Enter your choice to perform operation.. 3\n",
      "Enter the first operand.. 3\n",
      "Enter the second operand.. 2\n"
     ]
    },
    {
     "name": "stdout",
     "output_type": "stream",
     "text": [
      "Multiplication of a and b is 6\n"
     ]
    }
   ],
   "source": [
    "def add(a,b):\n",
    "    z = a+b\n",
    "    print(\"Sum of a and b is\",z)\n",
    "\n",
    "def sub(a,b):\n",
    "    z = a-b\n",
    "    print(\"Subtract of a and b is\",z)\n",
    "    \n",
    "def mul(a,b):\n",
    "    z = a*b\n",
    "    print(\"Multiplication of a and b is\",z)\n",
    "    \n",
    "def div(a,b):\n",
    "    z = a/b\n",
    "    print(\"Division of a and b is\",z)\n",
    "    \n",
    "    \n",
    "    \n",
    "# if ch == \"1\":\n",
    "#     add(a,b)\n",
    "# elif ch == \"2\":\n",
    "#     sub(a,b)\n",
    "# elif ch == \"3\":\n",
    "#     mul(a,b)\n",
    "# elif ch == \"4\":\n",
    "#     div(a,b)\n",
    "# else:\n",
    "#     print(\"Invalid choice..\")\n",
    "    \n",
    "    \n",
    "    \n",
    "print(\"\"\"1.Add\n",
    "2.Subtract\n",
    "3.Multiplication\n",
    "4.Division..\"\"\")\n",
    "ch  = input(\"Enter your choice to perform operation..\")\n",
    "a = int(input(\"Enter the first operand..\"))\n",
    "b = int(input(\"Enter the second operand..\"))\n",
    "\n",
    "operations = [add,sub,mul,div]\n",
    "operations[int(ch) -1](a,b)"
   ]
  },
  {
   "cell_type": "code",
   "execution_count": 17,
   "id": "57f09209-1265-467e-9e27-bad12b4685ba",
   "metadata": {
    "tags": []
   },
   "outputs": [],
   "source": [
    "def calc():\n",
    "    x = 52\n",
    "    y = 32\n",
    "    print(x,y)\n",
    "    def add(x,y):\n",
    "        print(\"Hello i'm add\")\n",
    "        print(x+y)\n",
    "    def sub(x,y):\n",
    "        print(x-y)"
   ]
  },
  {
   "cell_type": "code",
   "execution_count": 18,
   "id": "527429b0-596f-4789-b790-bf8fc21aec06",
   "metadata": {
    "tags": []
   },
   "outputs": [
    {
     "name": "stdout",
     "output_type": "stream",
     "text": [
      "52 32\n"
     ]
    }
   ],
   "source": [
    "calc()"
   ]
  },
  {
   "cell_type": "code",
   "execution_count": 20,
   "id": "103381cf-0ad8-4192-9f18-1ac4a281ca52",
   "metadata": {
    "tags": []
   },
   "outputs": [
    {
     "name": "stdout",
     "output_type": "stream",
     "text": [
      "Sum of a and b is 5\n"
     ]
    }
   ],
   "source": [
    "add(2,3)"
   ]
  },
  {
   "cell_type": "code",
   "execution_count": 4,
   "id": "2d523356-8ff6-468d-9367-51cdf7797089",
   "metadata": {},
   "outputs": [],
   "source": [
    "#Zip\n",
    "name = [\"Ram\",\"Aman\",\"Om\",\"Yash\",\"Hariom\"]\n",
    "Sir_name = [\"Tyagi\",\"Thakur\",\"Singh\",\"Sharma\",\"Mishra\",\"Gupta\"]"
   ]
  },
  {
   "cell_type": "code",
   "execution_count": 5,
   "id": "0a84c5b9-de63-406f-b753-986a63d8b1b2",
   "metadata": {},
   "outputs": [
    {
     "data": {
      "text/plain": [
       "<zip at 0x261a1f78d80>"
      ]
     },
     "execution_count": 5,
     "metadata": {},
     "output_type": "execute_result"
    }
   ],
   "source": [
    "zip(name,Sir_name)"
   ]
  },
  {
   "cell_type": "code",
   "execution_count": 6,
   "id": "4bb949f0-fe64-4ebe-9e85-200b08d3dbd2",
   "metadata": {
    "tags": []
   },
   "outputs": [
    {
     "data": {
      "text/plain": [
       "[('Ram', 'Tyagi'),\n",
       " ('Aman', 'Thakur'),\n",
       " ('Om', 'Singh'),\n",
       " ('Yash', 'Sharma'),\n",
       " ('Hariom', 'Mishra')]"
      ]
     },
     "execution_count": 6,
     "metadata": {},
     "output_type": "execute_result"
    }
   ],
   "source": [
    "list(zip(name,Sir_name))"
   ]
  },
  {
   "cell_type": "code",
   "execution_count": 7,
   "id": "c1da350d-5db2-4b0a-bcd2-9b9b615da82a",
   "metadata": {
    "tags": []
   },
   "outputs": [
    {
     "data": {
      "text/plain": [
       "{'Ram': 'Tyagi',\n",
       " 'Aman': 'Thakur',\n",
       " 'Om': 'Singh',\n",
       " 'Yash': 'Sharma',\n",
       " 'Hariom': 'Mishra'}"
      ]
     },
     "execution_count": 7,
     "metadata": {},
     "output_type": "execute_result"
    }
   ],
   "source": [
    "dict(zip(name,Sir_name))"
   ]
  },
  {
   "cell_type": "code",
   "execution_count": 8,
   "id": "ddf31f9e-1dcd-4db0-a464-1ce7e2c259ba",
   "metadata": {
    "tags": []
   },
   "outputs": [
    {
     "name": "stdout",
     "output_type": "stream",
     "text": [
      "Ram\n",
      "Aman\n",
      "Om\n",
      "Yash\n",
      "Hariom\n"
     ]
    }
   ],
   "source": [
    "#enumerate\n",
    "for i in name:\n",
    "    print(i)"
   ]
  },
  {
   "cell_type": "code",
   "execution_count": 10,
   "id": "b6987d85-d293-4873-8240-d82d09275431",
   "metadata": {
    "tags": []
   },
   "outputs": [
    {
     "name": "stdout",
     "output_type": "stream",
     "text": [
      "(101, 'Ram')\n",
      "(102, 'Aman')\n",
      "(103, 'Om')\n",
      "(104, 'Yash')\n",
      "(105, 'Hariom')\n"
     ]
    }
   ],
   "source": [
    "for i in enumerate(name,101):\n",
    "    print(i)"
   ]
  },
  {
   "cell_type": "code",
   "execution_count": 40,
   "id": "6e1e7a81-24c0-48bf-80e4-c620b78d3da0",
   "metadata": {
    "tags": []
   },
   "outputs": [],
   "source": [
    "#map\n",
    "def c_to_f(c):\n",
    "    return 9/5*c + 32\n",
    "\n",
    "def k_to_m(k):\n",
    "    return k*1000\n",
    "temp_c = [23.2,56.2,123.1,85.3,42.6]\n",
    "k = [2,3,56,8,9,4]\n"
   ]
  },
  {
   "cell_type": "code",
   "execution_count": 39,
   "id": "98c636f1-da10-42d7-874b-3654efbebebf",
   "metadata": {
    "tags": []
   },
   "outputs": [
    {
     "data": {
      "text/plain": [
       "[73.75999999999999, 133.16000000000003, 253.57999999999998, 185.54, 108.68]"
      ]
     },
     "execution_count": 39,
     "metadata": {},
     "output_type": "execute_result"
    }
   ],
   "source": [
    "list(map(c_to_f,temp_c))"
   ]
  },
  {
   "cell_type": "code",
   "execution_count": 51,
   "id": "5ed54bac-efd5-4936-a368-cce634c591f0",
   "metadata": {
    "tags": []
   },
   "outputs": [],
   "source": [
    "def even(n):\n",
    "    return n%2 == 0\n",
    "\n",
    "def odd(n):\n",
    "    return n%2 != 0\n",
    "\n",
    "\n",
    "k = [2,3,56,8,9,4]"
   ]
  },
  {
   "cell_type": "code",
   "execution_count": 46,
   "id": "14b7d857-8365-4fde-879f-ec80a9b71de9",
   "metadata": {
    "tags": []
   },
   "outputs": [],
   "source": [
    "# e = []\n",
    "# o = []\n",
    "# for i in k:\n",
    "#     if even(i):\n",
    "#         e.append(i)\n",
    "#     elif odd(i):\n",
    "#         o.append(i)\n",
    "        "
   ]
  },
  {
   "cell_type": "code",
   "execution_count": 49,
   "id": "11956609-0921-4d47-8a3f-e9a65e4b8bf3",
   "metadata": {
    "tags": []
   },
   "outputs": [
    {
     "data": {
      "text/plain": [
       "[2, 56, 8, 4]"
      ]
     },
     "execution_count": 49,
     "metadata": {},
     "output_type": "execute_result"
    }
   ],
   "source": [
    "list(filter(even,k))"
   ]
  },
  {
   "cell_type": "code",
   "execution_count": 53,
   "id": "b728e0e4-ea4f-4fd8-96f6-087eeb0c5782",
   "metadata": {
    "tags": []
   },
   "outputs": [
    {
     "data": {
      "text/plain": [
       "[3, 9]"
      ]
     },
     "execution_count": 53,
     "metadata": {},
     "output_type": "execute_result"
    }
   ],
   "source": [
    "list(filter(odd,k))"
   ]
  },
  {
   "cell_type": "code",
   "execution_count": null,
   "id": "171d398a-8a5b-43a0-9434-a5da8ef10f1d",
   "metadata": {},
   "outputs": [],
   "source": []
  }
 ],
 "metadata": {
  "kernelspec": {
   "display_name": "Python 3 (ipykernel)",
   "language": "python",
   "name": "python3"
  },
  "language_info": {
   "codemirror_mode": {
    "name": "ipython",
    "version": 3
   },
   "file_extension": ".py",
   "mimetype": "text/x-python",
   "name": "python",
   "nbconvert_exporter": "python",
   "pygments_lexer": "ipython3",
   "version": "3.11.5"
  }
 },
 "nbformat": 4,
 "nbformat_minor": 5
}
