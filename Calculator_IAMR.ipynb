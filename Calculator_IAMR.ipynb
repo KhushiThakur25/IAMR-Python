{
 "cells": [
  {
   "cell_type": "code",
   "execution_count": 1,
   "id": "565a082c-fc8e-4c9c-954b-3692badb751e",
   "metadata": {
    "tags": []
   },
   "outputs": [],
   "source": [
    "#calculator"
   ]
  },
  {
   "cell_type": "code",
   "execution_count": 4,
   "id": "81eedd70-2ea8-4470-94d2-5585fc3d6431",
   "metadata": {
    "tags": []
   },
   "outputs": [],
   "source": [
    "def add(a,b):\n",
    "    z = a+b\n",
    "    print(\"Sum of a and b is\",z)\n",
    "\n",
    "def sub(a,b):\n",
    "    z = a-b\n",
    "    print(\"Subtract of a and b is\",z)\n",
    "    \n",
    "def mul(a,b):\n",
    "    z = a*b\n",
    "    print(\"Multiplication of a and b is\",z)\n",
    "    \n",
    "def div(a,b):\n",
    "    z = a/b\n",
    "    print(\"Division of a and b is\",z)"
   ]
  },
  {
   "cell_type": "code",
   "execution_count": 7,
   "id": "ca5931d5-be28-4ea9-ba2d-2050f756d875",
   "metadata": {
    "tags": []
   },
   "outputs": [
    {
     "name": "stdout",
     "output_type": "stream",
     "text": [
      "Subtract of a and b is -33\n"
     ]
    }
   ],
   "source": [
    "if ch == \"1\":\n",
    "    add(a,b)\n",
    "elif ch == \"2\":\n",
    "    sub(a,b)\n",
    "elif ch == \"3\":\n",
    "    mul(a,b)\n",
    "elif ch == \"4\":\n",
    "    div(a,b)\n",
    "else:\n",
    "    print(\"Invalid choice..\")"
   ]
  },
  {
   "cell_type": "code",
   "execution_count": 8,
   "id": "eeaad8dc-39b4-408f-8efb-37e0aa3744d5",
   "metadata": {
    "tags": []
   },
   "outputs": [
    {
     "name": "stdout",
     "output_type": "stream",
     "text": [
      "1.Add\n",
      "2.Subtract\n",
      "3.Multiplication\n",
      "4.Division..\n"
     ]
    },
    {
     "name": "stdin",
     "output_type": "stream",
     "text": [
      "Enter your choice to perform operation.. 2\n",
      "Enter the first operand.. 32\n",
      "Enter the second operand.. 21\n"
     ]
    }
   ],
   "source": [
    "print(\"\"\"1.Add\n",
    "2.Subtract\n",
    "3.Multiplication\n",
    "4.Division..\"\"\")\n",
    "ch  = input(\"Enter your choice to perform operation..\")\n",
    "a = int(input(\"Enter the first operand..\"))\n",
    "b = int(input(\"Enter the second operand..\"))"
   ]
  },
  {
   "cell_type": "code",
   "execution_count": 17,
   "id": "57f09209-1265-467e-9e27-bad12b4685ba",
   "metadata": {
    "tags": []
   },
   "outputs": [],
   "source": [
    "def calc():\n",
    "    x = 52\n",
    "    y = 32\n",
    "    print(x,y)\n",
    "    def add(x,y):\n",
    "        print(\"Hello i'm add\")\n",
    "        print(x+y)\n",
    "    def sub(x,y):\n",
    "        print(x-y)"
   ]
  },
  {
   "cell_type": "code",
   "execution_count": 18,
   "id": "527429b0-596f-4789-b790-bf8fc21aec06",
   "metadata": {
    "tags": []
   },
   "outputs": [
    {
     "name": "stdout",
     "output_type": "stream",
     "text": [
      "52 32\n"
     ]
    }
   ],
   "source": [
    "calc()"
   ]
  },
  {
   "cell_type": "code",
   "execution_count": 20,
   "id": "103381cf-0ad8-4192-9f18-1ac4a281ca52",
   "metadata": {
    "tags": []
   },
   "outputs": [
    {
     "name": "stdout",
     "output_type": "stream",
     "text": [
      "Sum of a and b is 5\n"
     ]
    }
   ],
   "source": [
    "add(2,3)"
   ]
  },
  {
   "cell_type": "code",
   "execution_count": null,
   "id": "2d523356-8ff6-468d-9367-51cdf7797089",
   "metadata": {},
   "outputs": [],
   "source": []
  },
  {
   "cell_type": "code",
   "execution_count": null,
   "id": "0a84c5b9-de63-406f-b753-986a63d8b1b2",
   "metadata": {},
   "outputs": [],
   "source": []
  }
 ],
 "metadata": {
  "kernelspec": {
   "display_name": "Python 3 (ipykernel)",
   "language": "python",
   "name": "python3"
  },
  "language_info": {
   "codemirror_mode": {
    "name": "ipython",
    "version": 3
   },
   "file_extension": ".py",
   "mimetype": "text/x-python",
   "name": "python",
   "nbconvert_exporter": "python",
   "pygments_lexer": "ipython3",
   "version": "3.11.5"
  }
 },
 "nbformat": 4,
 "nbformat_minor": 5
}
