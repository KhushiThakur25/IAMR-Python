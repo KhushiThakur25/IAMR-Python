{
 "cells": [
  {
   "cell_type": "code",
   "execution_count": 8,
   "id": "0a26e61a-c0d1-409b-99fe-f37e47f63918",
   "metadata": {
    "tags": []
   },
   "outputs": [],
   "source": [
    "\n",
    "def add():\n",
    "    x = 56\n",
    "    y = 14\n",
    "    # global z\n",
    "    z = x+y\n",
    "    print(\"Sum of x and y is\",z)\n",
    "\n"
   ]
  },
  {
   "cell_type": "code",
   "execution_count": 9,
   "id": "637da9a8-67d1-41a5-b2de-2593a31102d6",
   "metadata": {
    "tags": []
   },
   "outputs": [
    {
     "name": "stdout",
     "output_type": "stream",
     "text": [
      "Sum of x and y is 70\n",
      "3\n"
     ]
    }
   ],
   "source": [
    "print()\n",
    "add()"
   ]
  },
  {
   "cell_type": "code",
   "execution_count": 2,
   "id": "408fac95-33b1-4a20-b235-220d8db2a2a7",
   "metadata": {
    "tags": []
   },
   "outputs": [
    {
     "ename": "NameError",
     "evalue": "name 'z' is not defined",
     "output_type": "error",
     "traceback": [
      "\u001b[1;31m---------------------------------------------------------------------------\u001b[0m",
      "\u001b[1;31mNameError\u001b[0m                                 Traceback (most recent call last)",
      "Cell \u001b[1;32mIn[2], line 1\u001b[0m\n\u001b[1;32m----> 1\u001b[0m z\n",
      "\u001b[1;31mNameError\u001b[0m: name 'z' is not defined"
     ]
    }
   ],
   "source": [
    "z"
   ]
  },
  {
   "cell_type": "code",
   "execution_count": 14,
   "id": "94a98a4f-9577-48ac-b7e8-7253c69e4ce1",
   "metadata": {
    "tags": []
   },
   "outputs": [
    {
     "data": {
      "text/plain": [
       "25"
      ]
     },
     "execution_count": 14,
     "metadata": {},
     "output_type": "execute_result"
    }
   ],
   "source": [
    "x"
   ]
  },
  {
   "cell_type": "code",
   "execution_count": 17,
   "id": "cc2b3519-f6c2-43db-a03e-e2dc91faa0fb",
   "metadata": {
    "tags": []
   },
   "outputs": [],
   "source": [
    "#Arguments\n",
    "# 1.positional arguments\n",
    "# 2.default arguments\n",
    "# 3.keyword arguments\n",
    "# 4.variable-length arguments\n",
    "# 4.1 arbitrary arguments\n",
    "# 4.2 arbitrary keyword arguments"
   ]
  },
  {
   "cell_type": "code",
   "execution_count": 19,
   "id": "2392179a-0221-49aa-a759-72a9f356cdd2",
   "metadata": {
    "tags": []
   },
   "outputs": [],
   "source": [
    "#.positional arguments\n",
    "def add(x,y,q):\n",
    "    z = x+y+q\n",
    "    print(z)"
   ]
  },
  {
   "cell_type": "code",
   "execution_count": 20,
   "id": "55fb0b31-755b-461d-9206-306dfa35e788",
   "metadata": {
    "tags": []
   },
   "outputs": [
    {
     "name": "stdout",
     "output_type": "stream",
     "text": [
      "11\n"
     ]
    }
   ],
   "source": [
    "add(2,3,6)"
   ]
  },
  {
   "cell_type": "code",
   "execution_count": 22,
   "id": "8aa0f0e9-722b-4016-a953-cb4e0cfb9356",
   "metadata": {
    "tags": []
   },
   "outputs": [
    {
     "name": "stdout",
     "output_type": "stream",
     "text": [
      "111\n"
     ]
    }
   ],
   "source": [
    "add(20,30,61)"
   ]
  },
  {
   "cell_type": "code",
   "execution_count": 23,
   "id": "43d2869a-0ea4-475f-af5d-ed1dca3be32a",
   "metadata": {
    "tags": []
   },
   "outputs": [],
   "source": [
    "#keyword arguments\n",
    "def add(a,b,c):\n",
    "    z = a+b+c\n",
    "    print(z)  "
   ]
  },
  {
   "cell_type": "code",
   "execution_count": 24,
   "id": "61854fef-a228-42ab-9364-638d43a51a9e",
   "metadata": {
    "tags": []
   },
   "outputs": [
    {
     "name": "stdout",
     "output_type": "stream",
     "text": [
      "16\n"
     ]
    }
   ],
   "source": [
    "add(a = 2,b = 6,c = 8)"
   ]
  },
  {
   "cell_type": "code",
   "execution_count": 25,
   "id": "38cd3009-66f6-42af-983b-7cea80be1fb5",
   "metadata": {
    "tags": []
   },
   "outputs": [
    {
     "name": "stdout",
     "output_type": "stream",
     "text": [
      "16\n"
     ]
    }
   ],
   "source": [
    "add(b = 6,a = 8,c = 2)"
   ]
  },
  {
   "cell_type": "code",
   "execution_count": 26,
   "id": "ae408e85-0551-48e5-b4fc-3f24e0deb4dd",
   "metadata": {
    "tags": []
   },
   "outputs": [
    {
     "ename": "TypeError",
     "evalue": "add() got an unexpected keyword argument 'x'",
     "output_type": "error",
     "traceback": [
      "\u001b[1;31m---------------------------------------------------------------------------\u001b[0m",
      "\u001b[1;31mTypeError\u001b[0m                                 Traceback (most recent call last)",
      "Cell \u001b[1;32mIn[26], line 1\u001b[0m\n\u001b[1;32m----> 1\u001b[0m add(x \u001b[38;5;241m=\u001b[39m \u001b[38;5;241m5\u001b[39m,y \u001b[38;5;241m=\u001b[39m \u001b[38;5;241m6\u001b[39m,z \u001b[38;5;241m=\u001b[39m \u001b[38;5;241m3\u001b[39m)\n",
      "\u001b[1;31mTypeError\u001b[0m: add() got an unexpected keyword argument 'x'"
     ]
    }
   ],
   "source": [
    "add(x = 5,y = 6,z = 3)"
   ]
  },
  {
   "cell_type": "code",
   "execution_count": 30,
   "id": "68fd1330-ffb5-4ec5-8527-81782ecd4f30",
   "metadata": {
    "tags": []
   },
   "outputs": [],
   "source": [
    "#default arguments\n",
    "def add(a = 1,b = 32,c = 68):\n",
    "    z = a+b+c\n",
    "    print(z)\n"
   ]
  },
  {
   "cell_type": "code",
   "execution_count": 31,
   "id": "311fd0b9-7544-431a-83b4-69ce30d802ff",
   "metadata": {
    "tags": []
   },
   "outputs": [
    {
     "name": "stdout",
     "output_type": "stream",
     "text": [
      "13\n",
      "73\n",
      "108\n",
      "101\n"
     ]
    }
   ],
   "source": [
    "add(5,6,2)#13\n",
    "add(2,3)#\n",
    "add(8)#\n",
    "add()#100"
   ]
  },
  {
   "cell_type": "code",
   "execution_count": 48,
   "id": "15a10ebd-3e5b-40eb-90fe-ede6d395dd64",
   "metadata": {
    "tags": []
   },
   "outputs": [],
   "source": [
    "#variable-length arguments\n",
    "def add(*args):\n",
    "     print(sum(args))\n",
    "# it return tuple"
   ]
  },
  {
   "cell_type": "code",
   "execution_count": 49,
   "id": "778c92da-8a6c-4237-8db6-2d7472060ba0",
   "metadata": {
    "tags": []
   },
   "outputs": [
    {
     "name": "stdout",
     "output_type": "stream",
     "text": [
      "89\n"
     ]
    }
   ],
   "source": [
    "add(2,3,65,9,6,3,1)"
   ]
  },
  {
   "cell_type": "code",
   "execution_count": 39,
   "id": "4c44f03b-c494-4bbf-b9cb-b0754f882ca4",
   "metadata": {
    "tags": []
   },
   "outputs": [],
   "source": [
    "a = 2,5,63"
   ]
  },
  {
   "cell_type": "code",
   "execution_count": 42,
   "id": "11d046e5-b483-4edf-931c-c3bfad7045bb",
   "metadata": {
    "tags": []
   },
   "outputs": [
    {
     "data": {
      "text/plain": [
       "2"
      ]
     },
     "execution_count": 42,
     "metadata": {},
     "output_type": "execute_result"
    }
   ],
   "source": [
    "a[0]"
   ]
  },
  {
   "cell_type": "code",
   "execution_count": 43,
   "id": "7ae53cc9-b497-49ea-8d7c-ab52465d09cd",
   "metadata": {
    "tags": []
   },
   "outputs": [
    {
     "data": {
      "text/plain": [
       "70"
      ]
     },
     "execution_count": 43,
     "metadata": {},
     "output_type": "execute_result"
    }
   ],
   "source": [
    "sum(a)"
   ]
  },
  {
   "cell_type": "code",
   "execution_count": 47,
   "id": "79d40888-931d-490d-b1ba-1acf6f6d07a4",
   "metadata": {
    "tags": []
   },
   "outputs": [
    {
     "name": "stdout",
     "output_type": "stream",
     "text": [
      "{'a': 23, 'b': 'khushi', 'c': 2.3}\n"
     ]
    }
   ],
   "source": [
    "def add(**kwargs):\n",
    "    print(kwargs)\n",
    "add(a = 23,b = \"khushi\",c=2.3)\n",
    "#it returns dictionary"
   ]
  },
  {
   "cell_type": "code",
   "execution_count": 1,
   "id": "1255596a-2fa4-444a-a028-cb9e66491191",
   "metadata": {
    "tags": []
   },
   "outputs": [],
   "source": [
    "def add():\n",
    "    x = 52\n",
    "    y = 65\n",
    "    z = x+y\n",
    "    print(z)"
   ]
  },
  {
   "cell_type": "code",
   "execution_count": 4,
   "id": "61d26647-02da-49b4-8c7d-d92f3f3e6430",
   "metadata": {
    "tags": []
   },
   "outputs": [
    {
     "name": "stdout",
     "output_type": "stream",
     "text": [
      "117\n"
     ]
    }
   ],
   "source": [
    "a = add()"
   ]
  },
  {
   "cell_type": "code",
   "execution_count": 5,
   "id": "a2c2a138-c4d8-4ddc-844f-1f522319ae54",
   "metadata": {
    "tags": []
   },
   "outputs": [],
   "source": [
    "a"
   ]
  },
  {
   "cell_type": "code",
   "execution_count": 6,
   "id": "4c08bca7-f1fb-42f2-832d-a8802e4fd28f",
   "metadata": {
    "tags": []
   },
   "outputs": [
    {
     "ename": "NameError",
     "evalue": "name 'b' is not defined",
     "output_type": "error",
     "traceback": [
      "\u001b[1;31m---------------------------------------------------------------------------\u001b[0m",
      "\u001b[1;31mNameError\u001b[0m                                 Traceback (most recent call last)",
      "Cell \u001b[1;32mIn[6], line 1\u001b[0m\n\u001b[1;32m----> 1\u001b[0m b\n",
      "\u001b[1;31mNameError\u001b[0m: name 'b' is not defined"
     ]
    }
   ],
   "source": [
    "b"
   ]
  },
  {
   "cell_type": "code",
   "execution_count": 60,
   "id": "969ba0a7-03c6-4bcc-bb62-935b7d1fd074",
   "metadata": {
    "tags": []
   },
   "outputs": [
    {
     "data": {
      "text/plain": [
       "65"
      ]
     },
     "execution_count": 60,
     "metadata": {},
     "output_type": "execute_result"
    }
   ],
   "source": [
    "c"
   ]
  },
  {
   "cell_type": "code",
   "execution_count": 18,
   "id": "9f348178-888b-45f3-b457-6b9a03f7eca0",
   "metadata": {},
   "outputs": [],
   "source": [
    "def add():\n",
    "    x = 52\n",
    "    y = 65\n",
    "    z = x+y\n",
    "    print(z)\n",
    "    return x,y,z"
   ]
  },
  {
   "cell_type": "code",
   "execution_count": 19,
   "id": "8d94dd87-7c0c-4ddf-a8eb-01e84a47e596",
   "metadata": {
    "tags": []
   },
   "outputs": [
    {
     "name": "stdout",
     "output_type": "stream",
     "text": [
      "117\n"
     ]
    },
    {
     "data": {
      "text/plain": [
       "(52, 65, 117)"
      ]
     },
     "execution_count": 19,
     "metadata": {},
     "output_type": "execute_result"
    }
   ],
   "source": [
    "add()"
   ]
  },
  {
   "cell_type": "code",
   "execution_count": 20,
   "id": "6d0f47c0-e089-42b9-80fe-78f66a73e9d9",
   "metadata": {
    "tags": []
   },
   "outputs": [
    {
     "name": "stdout",
     "output_type": "stream",
     "text": [
      "117\n"
     ]
    }
   ],
   "source": [
    "a,b,c = add()"
   ]
  },
  {
   "cell_type": "code",
   "execution_count": 21,
   "id": "ad8af61a-1995-4608-a3b2-9f3c7195a729",
   "metadata": {
    "tags": []
   },
   "outputs": [
    {
     "data": {
      "text/plain": [
       "52"
      ]
     },
     "execution_count": 21,
     "metadata": {},
     "output_type": "execute_result"
    }
   ],
   "source": [
    "a"
   ]
  },
  {
   "cell_type": "code",
   "execution_count": 22,
   "id": "bc979ffa-46ae-4aca-9cfa-8907244e17cd",
   "metadata": {
    "tags": []
   },
   "outputs": [
    {
     "data": {
      "text/plain": [
       "65"
      ]
     },
     "execution_count": 22,
     "metadata": {},
     "output_type": "execute_result"
    }
   ],
   "source": [
    "b"
   ]
  },
  {
   "cell_type": "code",
   "execution_count": 23,
   "id": "c7a61f41-f42b-48be-a502-9f0735a5eafe",
   "metadata": {
    "tags": []
   },
   "outputs": [
    {
     "data": {
      "text/plain": [
       "117"
      ]
     },
     "execution_count": 23,
     "metadata": {},
     "output_type": "execute_result"
    }
   ],
   "source": [
    "c"
   ]
  },
  {
   "cell_type": "code",
   "execution_count": null,
   "id": "68444240-2b4c-45f3-8880-b8fb2cab50b6",
   "metadata": {},
   "outputs": [],
   "source": []
  }
 ],
 "metadata": {
  "kernelspec": {
   "display_name": "Python 3 (ipykernel)",
   "language": "python",
   "name": "python3"
  },
  "language_info": {
   "codemirror_mode": {
    "name": "ipython",
    "version": 3
   },
   "file_extension": ".py",
   "mimetype": "text/x-python",
   "name": "python",
   "nbconvert_exporter": "python",
   "pygments_lexer": "ipython3",
   "version": "3.11.5"
  }
 },
 "nbformat": 4,
 "nbformat_minor": 5
}
