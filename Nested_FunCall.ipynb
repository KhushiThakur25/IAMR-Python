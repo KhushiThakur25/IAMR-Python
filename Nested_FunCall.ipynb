{
 "cells": [
  {
   "cell_type": "code",
   "execution_count": 16,
   "id": "e470a6d6-9ef9-4c60-80df-f03d7ff178dd",
   "metadata": {
    "tags": []
   },
   "outputs": [],
   "source": [
    "def calc():\n",
    "    x = 52\n",
    "    y = 32\n",
    "    print(x,y)\n",
    "    def add():\n",
    "        print(\"Hello i'm add\")\n",
    "        print(x+y)\n",
    "    def sub():\n",
    "        print(x-y)\n",
    "    return add,sub"
   ]
  },
  {
   "cell_type": "code",
   "execution_count": 17,
   "id": "1c6a347a-2f8a-4c79-9432-f7897e126f13",
   "metadata": {
    "tags": []
   },
   "outputs": [
    {
     "name": "stdout",
     "output_type": "stream",
     "text": [
      "52 32\n"
     ]
    }
   ],
   "source": [
    "add,sub = calc()"
   ]
  },
  {
   "cell_type": "code",
   "execution_count": 18,
   "id": "f6e02415-7b1a-468a-86a0-75ce7954dc95",
   "metadata": {
    "tags": []
   },
   "outputs": [
    {
     "name": "stdout",
     "output_type": "stream",
     "text": [
      "Hello i'm add\n",
      "84\n"
     ]
    }
   ],
   "source": [
    "add()"
   ]
  },
  {
   "cell_type": "code",
   "execution_count": 19,
   "id": "60d41da5-5788-4e6f-8dd5-af3fefd6762c",
   "metadata": {
    "tags": []
   },
   "outputs": [
    {
     "name": "stdout",
     "output_type": "stream",
     "text": [
      "20\n"
     ]
    }
   ],
   "source": [
    "sub()"
   ]
  },
  {
   "cell_type": "code",
   "execution_count": null,
   "id": "c8b61d79-34c2-4d23-ad62-142a0297c117",
   "metadata": {},
   "outputs": [],
   "source": []
  }
 ],
 "metadata": {
  "kernelspec": {
   "display_name": "Python 3 (ipykernel)",
   "language": "python",
   "name": "python3"
  },
  "language_info": {
   "codemirror_mode": {
    "name": "ipython",
    "version": 3
   },
   "file_extension": ".py",
   "mimetype": "text/x-python",
   "name": "python",
   "nbconvert_exporter": "python",
   "pygments_lexer": "ipython3",
   "version": "3.11.5"
  }
 },
 "nbformat": 4,
 "nbformat_minor": 5
}
